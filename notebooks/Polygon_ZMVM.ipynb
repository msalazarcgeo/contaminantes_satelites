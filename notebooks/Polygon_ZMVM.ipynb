{
 "cells": [
  {
   "cell_type": "code",
   "execution_count": null,
   "id": "6935c11f-7e7e-408a-bb2a-f06f96a8125e",
   "metadata": {},
   "outputs": [],
   "source": [
    "import geopandas as gpd\n",
    "import pandas as pd"
   ]
  },
  {
   "cell_type": "code",
   "execution_count": null,
   "id": "e02d874a-547f-414b-b672-ecbbc6216a2e",
   "metadata": {},
   "outputs": [],
   "source": [
    "\n",
    "citiest = gpd.read_file('../data_s/silhueta_100_ciudades.zip')"
   ]
  },
  {
   "cell_type": "code",
   "execution_count": null,
   "id": "6b7320d4-7a54-4b5e-9ac2-a99484ae222e",
   "metadata": {},
   "outputs": [
    {
     "data": {
      "text/html": [
       "<div>\n",
       "<style scoped>\n",
       "    .dataframe tbody tr th:only-of-type {\n",
       "        vertical-align: middle;\n",
       "    }\n",
       "\n",
       "    .dataframe tbody tr th {\n",
       "        vertical-align: top;\n",
       "    }\n",
       "\n",
       "    .dataframe thead th {\n",
       "        text-align: right;\n",
       "    }\n",
       "</style>\n",
       "<table border=\"1\" class=\"dataframe\">\n",
       "  <thead>\n",
       "    <tr style=\"text-align: right;\">\n",
       "      <th></th>\n",
       "      <th>OBJECTID</th>\n",
       "      <th>Shape_Leng</th>\n",
       "      <th>NOM_CIUDAD</th>\n",
       "      <th>Shape_Le_1</th>\n",
       "      <th>Shape_Area</th>\n",
       "      <th>CVE_SUN</th>\n",
       "      <th>SUN</th>\n",
       "      <th>geometry</th>\n",
       "    </tr>\n",
       "  </thead>\n",
       "  <tbody>\n",
       "    <tr>\n",
       "      <th>0</th>\n",
       "      <td>1</td>\n",
       "      <td>435907.555183</td>\n",
       "      <td>Acapulco</td>\n",
       "      <td>435.907555</td>\n",
       "      <td>354447.942355</td>\n",
       "      <td>17</td>\n",
       "      <td>17.0</td>\n",
       "      <td>MULTIPOLYGON (((2742572.602 584620.256, 274280...</td>\n",
       "    </tr>\n",
       "    <tr>\n",
       "      <th>1</th>\n",
       "      <td>2</td>\n",
       "      <td>276964.138282</td>\n",
       "      <td>Acayucan</td>\n",
       "      <td>276.964138</td>\n",
       "      <td>82848.026203</td>\n",
       "      <td>54</td>\n",
       "      <td>54.0</td>\n",
       "      <td>POLYGON ((3220167.744 687027.914, 3220140.712 ...</td>\n",
       "    </tr>\n",
       "    <tr>\n",
       "      <th>2</th>\n",
       "      <td>3</td>\n",
       "      <td>295706.026045</td>\n",
       "      <td>Aguascalientes</td>\n",
       "      <td>295.706026</td>\n",
       "      <td>180402.451345</td>\n",
       "      <td>1</td>\n",
       "      <td>1.0</td>\n",
       "      <td>POLYGON ((2489072.505 1115771.584, 2489352.774...</td>\n",
       "    </tr>\n",
       "    <tr>\n",
       "      <th>3</th>\n",
       "      <td>4</td>\n",
       "      <td>554077.721598</td>\n",
       "      <td>Cancún</td>\n",
       "      <td>554.077722</td>\n",
       "      <td>302584.453724</td>\n",
       "      <td>37</td>\n",
       "      <td>37.0</td>\n",
       "      <td>MULTIPOLYGON (((4036728.716 1104178.012, 40367...</td>\n",
       "    </tr>\n",
       "    <tr>\n",
       "      <th>4</th>\n",
       "      <td>5</td>\n",
       "      <td>300393.214161</td>\n",
       "      <td>Celaya</td>\n",
       "      <td>300.393214</td>\n",
       "      <td>116046.700029</td>\n",
       "      <td>57</td>\n",
       "      <td>57.0</td>\n",
       "      <td>POLYGON ((2641643.806 962867.860, 2641607.547 ...</td>\n",
       "    </tr>\n",
       "  </tbody>\n",
       "</table>\n",
       "</div>"
      ],
      "text/plain": [
       "   OBJECTID     Shape_Leng      NOM_CIUDAD  Shape_Le_1     Shape_Area CVE_SUN  \\\n",
       "0         1  435907.555183        Acapulco  435.907555  354447.942355      17   \n",
       "1         2  276964.138282        Acayucan  276.964138   82848.026203      54   \n",
       "2         3  295706.026045  Aguascalientes  295.706026  180402.451345       1   \n",
       "3         4  554077.721598          Cancún  554.077722  302584.453724      37   \n",
       "4         5  300393.214161          Celaya  300.393214  116046.700029      57   \n",
       "\n",
       "    SUN                                           geometry  \n",
       "0  17.0  MULTIPOLYGON (((2742572.602 584620.256, 274280...  \n",
       "1  54.0  POLYGON ((3220167.744 687027.914, 3220140.712 ...  \n",
       "2   1.0  POLYGON ((2489072.505 1115771.584, 2489352.774...  \n",
       "3  37.0  MULTIPOLYGON (((4036728.716 1104178.012, 40367...  \n",
       "4  57.0  POLYGON ((2641643.806 962867.860, 2641607.547 ...  "
      ]
     },
     "execution_count": null,
     "metadata": {},
     "output_type": "execute_result"
    }
   ],
   "source": [
    "citiest.head()\n"
   ]
  },
  {
   "cell_type": "code",
   "execution_count": null,
   "id": "93707914-08d2-43bd-be8a-3ee14755688d",
   "metadata": {},
   "outputs": [
    {
     "data": {
      "text/plain": [
       "<Derived Projected CRS: PROJCS[\"International_Terrestrial_Reference_Frame_ ...>\n",
       "Name: International_Terrestrial_Reference_Frame_1992Lambert_Conformal_Conic_2SP\n",
       "Axis Info [cartesian]:\n",
       "- [east]: Easting (metre)\n",
       "- [north]: Northing (metre)\n",
       "Area of Use:\n",
       "- undefined\n",
       "Coordinate Operation:\n",
       "- name: unnamed\n",
       "- method: Lambert Conic Conformal (2SP)\n",
       "Datum: International_Terrestrial_Reference_Frame_1992\n",
       "- Ellipsoid: GRS 1980\n",
       "- Prime Meridian: Greenwich"
      ]
     },
     "execution_count": null,
     "metadata": {},
     "output_type": "execute_result"
    }
   ],
   "source": [
    "citiest.crs"
   ]
  },
  {
   "cell_type": "code",
   "execution_count": null,
   "id": "1835418b-a464-4d98-b068-773209c8c48f",
   "metadata": {},
   "outputs": [
    {
     "data": {
      "text/html": [
       "<div>\n",
       "<style scoped>\n",
       "    .dataframe tbody tr th:only-of-type {\n",
       "        vertical-align: middle;\n",
       "    }\n",
       "\n",
       "    .dataframe tbody tr th {\n",
       "        vertical-align: top;\n",
       "    }\n",
       "\n",
       "    .dataframe thead th {\n",
       "        text-align: right;\n",
       "    }\n",
       "</style>\n",
       "<table border=\"1\" class=\"dataframe\">\n",
       "  <thead>\n",
       "    <tr style=\"text-align: right;\">\n",
       "      <th></th>\n",
       "      <th>OBJECTID</th>\n",
       "      <th>Shape_Leng</th>\n",
       "      <th>NOM_CIUDAD</th>\n",
       "      <th>Shape_Le_1</th>\n",
       "      <th>Shape_Area</th>\n",
       "      <th>CVE_SUN</th>\n",
       "      <th>SUN</th>\n",
       "      <th>geometry</th>\n",
       "    </tr>\n",
       "  </thead>\n",
       "  <tbody>\n",
       "    <tr>\n",
       "      <th>53</th>\n",
       "      <td>54</td>\n",
       "      <td>630172.981156</td>\n",
       "      <td>Valle de México</td>\n",
       "      <td>630.172981</td>\n",
       "      <td>781912.110166</td>\n",
       "      <td>13</td>\n",
       "      <td>13.0</td>\n",
       "      <td>POLYGON ((2850091.668 826216.892, 2850069.511 ...</td>\n",
       "    </tr>\n",
       "  </tbody>\n",
       "</table>\n",
       "</div>"
      ],
      "text/plain": [
       "    OBJECTID     Shape_Leng       NOM_CIUDAD  Shape_Le_1     Shape_Area  \\\n",
       "53        54  630172.981156  Valle de México  630.172981  781912.110166   \n",
       "\n",
       "   CVE_SUN   SUN                                           geometry  \n",
       "53      13  13.0  POLYGON ((2850091.668 826216.892, 2850069.511 ...  "
      ]
     },
     "execution_count": null,
     "metadata": {},
     "output_type": "execute_result"
    }
   ],
   "source": [
    "\n",
    "ZMVM = citiest[citiest['CVE_SUN'] == '13']\n",
    "ZMVM"
   ]
  },
  {
   "cell_type": "code",
   "execution_count": null,
   "id": "d37f17d1-409a-4bfa-9924-2db0a25c4863",
   "metadata": {},
   "outputs": [
    {
     "data": {
      "text/html": [
       "<div>\n",
       "<style scoped>\n",
       "    .dataframe tbody tr th:only-of-type {\n",
       "        vertical-align: middle;\n",
       "    }\n",
       "\n",
       "    .dataframe tbody tr th {\n",
       "        vertical-align: top;\n",
       "    }\n",
       "\n",
       "    .dataframe thead th {\n",
       "        text-align: right;\n",
       "    }\n",
       "</style>\n",
       "<table border=\"1\" class=\"dataframe\">\n",
       "  <thead>\n",
       "    <tr style=\"text-align: right;\">\n",
       "      <th></th>\n",
       "      <th>OBJECTID</th>\n",
       "      <th>Shape_Leng</th>\n",
       "      <th>NOM_CIUDAD</th>\n",
       "      <th>Shape_Le_1</th>\n",
       "      <th>Shape_Area</th>\n",
       "      <th>CVE_SUN</th>\n",
       "      <th>SUN</th>\n",
       "      <th>geometry</th>\n",
       "    </tr>\n",
       "  </thead>\n",
       "  <tbody>\n",
       "    <tr>\n",
       "      <th>53</th>\n",
       "      <td>54</td>\n",
       "      <td>630172.981156</td>\n",
       "      <td>Valle de México</td>\n",
       "      <td>630.172981</td>\n",
       "      <td>781912.110166</td>\n",
       "      <td>13</td>\n",
       "      <td>13.0</td>\n",
       "      <td>POLYGON ((-98.65714 19.39708, -98.65743 19.393...</td>\n",
       "    </tr>\n",
       "  </tbody>\n",
       "</table>\n",
       "</div>"
      ],
      "text/plain": [
       "    OBJECTID     Shape_Leng       NOM_CIUDAD  Shape_Le_1     Shape_Area  \\\n",
       "53        54  630172.981156  Valle de México  630.172981  781912.110166   \n",
       "\n",
       "   CVE_SUN   SUN                                           geometry  \n",
       "53      13  13.0  POLYGON ((-98.65714 19.39708, -98.65743 19.393...  "
      ]
     },
     "execution_count": null,
     "metadata": {},
     "output_type": "execute_result"
    }
   ],
   "source": [
    "ZMVM = ZMVM.to_crs('EPSG:4326')\n",
    "ZMVM"
   ]
  },
  {
   "cell_type": "code",
   "execution_count": null,
   "id": "a484f721-8982-4135-a4a5-87e61b28ec89",
   "metadata": {},
   "outputs": [],
   "source": [
    "ZMVM.to_file('../data_s/ZMVM.shp')"
   ]
  },
  {
   "cell_type": "code",
   "execution_count": null,
   "id": "add5b8d1-f28b-482a-8602-b794c4caf7ad",
   "metadata": {},
   "outputs": [],
   "source": [
    "Monterrey = citiest[citiest['NOM_CIUDAD'] == 'Monterrey']\n",
    "Guadalajara = citiest[citiest['NOM_CIUDAD'] == 'Guadalajara']\n",
    "ZMVM = citiest[citiest['NOM_CIUDAD'] == 'Valle de México']\n",
    "Toluca =  citiest[citiest['NOM_CIUDAD'] == 'Toluca']\n"
   ]
  },
  {
   "cell_type": "code",
   "execution_count": null,
   "id": "8f5c6980-e452-4a46-8879-df6b21ce9f88",
   "metadata": {},
   "outputs": [],
   "source": [
    "ZMVM.to_file('../data_s/ZMVM.shp')\n",
    "Guadalajara.to_file('../data_s/ZMG.shp')\n",
    "Monterrey.to_file('../data_s/AMM.shp')\n",
    "Toluca.to_file('../data_s/ZMVT.shp')"
   ]
  },
  {
   "cell_type": "code",
   "execution_count": null,
   "id": "3295d775-14de-47a2-a4eb-02a3682f6ea3",
   "metadata": {},
   "outputs": [],
   "source": [
    "all_zm_mexico = pd.concat ( [ZMVM, Guadalajara, Monterrey])"
   ]
  },
  {
   "cell_type": "markdown",
   "id": "fa83ced1-3a18-4bb4-ad07-7409be9790b4",
   "metadata": {},
   "source": [
    "Solo vamos a utilizar los bounding box y vamos a ponerlos como geometrias para poder usarlas en \n"
   ]
  },
  {
   "cell_type": "code",
   "execution_count": null,
   "id": "18ea5bf2-677c-4f60-ac26-99b99a9a9f77",
   "metadata": {},
   "outputs": [
    {
     "data": {
      "text/plain": [
       "53    (2745631.8098000064, 774927.1052000001, 285543...\n",
       "11    (2327365.364800006, 925111.768500004, 2387687....\n",
       "22    (2613584.6802000105, 1465432.6206, 2731457.158...\n",
       "Name: geometry, dtype: object"
      ]
     },
     "execution_count": null,
     "metadata": {},
     "output_type": "execute_result"
    }
   ],
   "source": [
    "all_zm_mexico.geometry.apply(lambda l: l.bounds)"
   ]
  },
  {
   "cell_type": "code",
   "execution_count": null,
   "id": "3180a959-9628-4f43-9165-906ba55dfb75",
   "metadata": {},
   "outputs": [],
   "source": [
    "all_zm_mexico.to_file('../data_s/all_mex_zm.shape')"
   ]
  },
  {
   "cell_type": "code",
   "execution_count": null,
   "id": "7b0a1e2c-d109-41cb-8245-c42886ed8700",
   "metadata": {},
   "outputs": [
    {
     "data": {
      "text/plain": [
       "array(['Acapulco', 'Acayucan', 'Aguascalientes', 'Cancún', 'Celaya',\n",
       "       'Coatzacoalcos', 'Colima-Villa de Álvarez', 'Córdoba', 'Cuautla',\n",
       "       'Cuernavaca', 'Chihuahua', 'Guadalajara', 'Guaymas', 'Juárez',\n",
       "       'La Laguna', 'La Piedad-Pénjamo', 'León', 'Matamoros', 'Mérida',\n",
       "       'Mexicali', 'Minatitlán', 'Monclova-Frontera', 'Monterrey',\n",
       "       'Morelia', 'Moroleón-Uriangato', 'Nuevo Laredo', 'Oaxaca',\n",
       "       'Ocotlán', 'Orizaba', 'Pachuca', 'Piedras Negras', 'Poza Rica',\n",
       "       'Puebla-Tlaxcala', 'Puerto Vallarta', 'Querétaro',\n",
       "       'Reynosa-Río Bravo', 'Ríoverde-Ciudad Fernández', 'Saltillo',\n",
       "       'San Francisco del Rincón',\n",
       "       'San Luis Potosí-Soledad de Graciano Sánchez', 'Tampico',\n",
       "       'Tecomán', 'Tehuacán', 'Tehuantepec', 'Tepic', 'Teziutlán',\n",
       "       'Tianguistenco', 'Tijuana', 'Tlaxcala-Apizaco', 'Toluca', 'Tula',\n",
       "       'Tulancingo', 'Tuxtla Gutiérrez', 'Valle de México', 'Veracruz',\n",
       "       'Villahermosa', 'Xalapa', 'Zacatecas-Guadalupe', 'Zamora-Jacona',\n",
       "       'Zitácuaro', 'San Juan Bautista Tuxtepec', 'Chetumal',\n",
       "       'Ciudad Obregón', 'Cárdenas', 'Túxpam de Rodríguez Cano',\n",
       "       'Fresnillo', 'La Paz', 'Ciudad del Carmen', 'Ciudad Acuña',\n",
       "       'Comitán de Domínguez', 'San Cristóbal de las Casas', 'Cuauhtémoc',\n",
       "       'Delicias', 'Hidalgo del Parral', 'Victoria de Durango',\n",
       "       'Salamanca', 'Iguala de la Independencia', 'Ciudad Guzmán',\n",
       "       'Lagos de Moreno', 'Tepatitlán de Morelos',\n",
       "       'Apatzingán de la Constitución', 'San Juan del Río',\n",
       "       'Ciudad Valles', 'Los Mochis', 'Culiacán Rosales', 'Mazatlán',\n",
       "       'Hermosillo', 'Navojoa', 'Heroica Nogales',\n",
       "       'San Luis Río Colorado', 'Victoria', 'Ensenada', 'Campeche',\n",
       "       'Manzanillo', 'Tapachula de Córdova y Ordóñez', 'Guanajuato',\n",
       "       'Irapuato', 'Chilpancingo de los Bravo', 'Ciudad Lázaro Cárdenas',\n",
       "       'Uruapan'], dtype=object)"
      ]
     },
     "execution_count": null,
     "metadata": {},
     "output_type": "execute_result"
    }
   ],
   "source": [
    "citiest['NOM_CIUDAD'].unique()"
   ]
  },
  {
   "cell_type": "code",
   "execution_count": null,
   "id": "f5f5d79e-0a57-4f75-b383-666efcd3e4b6",
   "metadata": {},
   "outputs": [],
   "source": []
  }
 ],
 "metadata": {
  "kernelspec": {
   "display_name": "Python 3 (ipykernel)",
   "language": "python",
   "name": "python3"
  }
 },
 "nbformat": 4,
 "nbformat_minor": 5
}
