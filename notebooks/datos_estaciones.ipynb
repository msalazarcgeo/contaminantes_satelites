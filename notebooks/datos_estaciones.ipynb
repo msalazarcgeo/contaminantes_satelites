{
 "cells": [
  {
   "cell_type": "markdown",
   "id": "54602a44-a004-4c7c-a996-3008578b59c4",
   "metadata": {},
   "source": [
    "# Unir tablas y localizaciones \n",
    "Este notebooke es para concentrar y hacer un merge con de la localizacion de las estaciones con las localizaciones de las estaciones de monitoreo"
   ]
  },
  {
   "cell_type": "code",
   "execution_count": 72,
   "id": "0087761f-3c46-49b4-988f-f3a1aae5c4de",
   "metadata": {},
   "outputs": [],
   "source": [
    "import pandas as pd\n",
    "import geopandas as gpd \n",
    "import shapely\n"
   ]
  },
  {
   "cell_type": "code",
   "execution_count": null,
   "id": "8d8f59da-d989-423f-8b51-b7a2893e1f01",
   "metadata": {},
   "outputs": [],
   "source": []
  },
  {
   "cell_type": "markdown",
   "id": "8b248f37-4783-444e-b000-9650d4f6b885",
   "metadata": {},
   "source": []
  },
  {
   "cell_type": "markdown",
   "id": "9622ce94-d6a0-45be-86ce-d7d5325f32a4",
   "metadata": {},
   "source": [
    "## Carga de datos\n",
    "\n",
    "Vamos a leer los datos "
   ]
  },
  {
   "cell_type": "code",
   "execution_count": 34,
   "id": "ab6e306f-ec24-4e88-83b6-60613bb0b08b",
   "metadata": {},
   "outputs": [
    {
     "name": "stderr",
     "output_type": "stream",
     "text": [
      "/home/miguel/miniconda3/envs/data/lib/python3.10/site-packages/pandas/core/dtypes/cast.py:122: ShapelyDeprecationWarning: The array interface is deprecated and will no longer work in Shapely 2.0. Convert the '.coords' to a numpy array instead.\n",
      "  arr = construct_1d_object_array_from_listlike(values)\n"
     ]
    },
    {
     "data": {
      "text/html": [
       "<div>\n",
       "<style scoped>\n",
       "    .dataframe tbody tr th:only-of-type {\n",
       "        vertical-align: middle;\n",
       "    }\n",
       "\n",
       "    .dataframe tbody tr th {\n",
       "        vertical-align: top;\n",
       "    }\n",
       "\n",
       "    .dataframe thead th {\n",
       "        text-align: right;\n",
       "    }\n",
       "</style>\n",
       "<table border=\"1\" class=\"dataframe\">\n",
       "  <thead>\n",
       "    <tr style=\"text-align: right;\">\n",
       "      <th></th>\n",
       "      <th>Estacion</th>\n",
       "      <th>Localidad</th>\n",
       "      <th>Estado</th>\n",
       "      <th>Latitud</th>\n",
       "      <th>Longitud</th>\n",
       "      <th>Altitud</th>\n",
       "      <th>geometry</th>\n",
       "    </tr>\n",
       "  </thead>\n",
       "  <tbody>\n",
       "    <tr>\n",
       "      <th>0</th>\n",
       "      <td>ACO</td>\n",
       "      <td>Acolman</td>\n",
       "      <td>Estado de México</td>\n",
       "      <td>19.635501</td>\n",
       "      <td>-98.912003</td>\n",
       "      <td>2198</td>\n",
       "      <td>POINT (-98.91200 19.63550)</td>\n",
       "    </tr>\n",
       "    <tr>\n",
       "      <th>1</th>\n",
       "      <td>AJU</td>\n",
       "      <td>Tlalpan</td>\n",
       "      <td>CDMX</td>\n",
       "      <td>19.154674</td>\n",
       "      <td>-99.162459</td>\n",
       "      <td>2953</td>\n",
       "      <td>POINT (-99.16246 19.15467)</td>\n",
       "    </tr>\n",
       "    <tr>\n",
       "      <th>2</th>\n",
       "      <td>AJM</td>\n",
       "      <td>Tlalpan</td>\n",
       "      <td>CDMX</td>\n",
       "      <td>19.2721</td>\n",
       "      <td>-99.207658</td>\n",
       "      <td>2619</td>\n",
       "      <td>POINT (-99.20766 19.27210)</td>\n",
       "    </tr>\n",
       "    <tr>\n",
       "      <th>3</th>\n",
       "      <td>ATI</td>\n",
       "      <td>Atizapán de Zaragoza</td>\n",
       "      <td>Estado de México</td>\n",
       "      <td>19.576963</td>\n",
       "      <td>-99.254133</td>\n",
       "      <td>2341</td>\n",
       "      <td>POINT (-99.25413 19.57696)</td>\n",
       "    </tr>\n",
       "    <tr>\n",
       "      <th>4</th>\n",
       "      <td>BJU</td>\n",
       "      <td>Benito Juárez</td>\n",
       "      <td>CDMX</td>\n",
       "      <td>19.371612</td>\n",
       "      <td>-99.158969</td>\n",
       "      <td>2250</td>\n",
       "      <td>POINT (-99.15897 19.37161)</td>\n",
       "    </tr>\n",
       "  </tbody>\n",
       "</table>\n",
       "</div>"
      ],
      "text/plain": [
       "  Estacion              Localidad              Estado    Latitud    Longitud  \\\n",
       "0     ACO                 Acolman  Estado de México    19.635501  -98.912003   \n",
       "1     AJU                Tlalpan                CDMX   19.154674  -99.162459   \n",
       "2     AJM                Tlalpan                CDMX     19.2721  -99.207658   \n",
       "3     ATI   Atizapán de Zaragoza    Estado de México   19.576963  -99.254133   \n",
       "4     BJU          Benito Juárez                CDMX   19.371612  -99.158969   \n",
       "\n",
       "   Altitud                    geometry  \n",
       "0     2198  POINT (-98.91200 19.63550)  \n",
       "1     2953  POINT (-99.16246 19.15467)  \n",
       "2     2619  POINT (-99.20766 19.27210)  \n",
       "3     2341  POINT (-99.25413 19.57696)  \n",
       "4     2250  POINT (-99.15897 19.37161)  "
      ]
     },
     "execution_count": 34,
     "metadata": {},
     "output_type": "execute_result"
    }
   ],
   "source": [
    "estaciones = gpd.read_file('../../../Contaminantes/Estaciones_ubicacion.csv')\n",
    "estaciones.geometry = estaciones.apply(lambda l: shapely.geometry.Point(float(l.Longitud), float(l.Latitud)), axis=1 )\n",
    "estaciones.set_crs('EPSG:4326', inplace=True)\n",
    "estaciones['Altitud']= estaciones['Altitud'].apply(lambda l: int(l.split()[0]))\n",
    "estaciones.head()"
   ]
  },
  {
   "cell_type": "code",
   "execution_count": 25,
   "id": "3f3fe191-c8bf-4687-8342-b1f6a2224fd7",
   "metadata": {},
   "outputs": [
    {
     "data": {
      "text/plain": [
       "<AxesSubplot: >"
      ]
     },
     "execution_count": 25,
     "metadata": {},
     "output_type": "execute_result"
    },
    {
     "data": {
      "image/png": "[encoded data removed]",
      "text/plain": [
       "<Figure size 640x480 with 1 Axes>"
      ]
     },
     "metadata": {},
     "output_type": "display_data"
    }
   ],
   "source": [
    "\n",
    "estaciones.plot(aspect=1)"
   ]
  },
  {
   "cell_type": "code",
   "execution_count": 26,
   "id": "7d3f0be6-aa00-4225-b9f0-7d6be6f60963",
   "metadata": {},
   "outputs": [
    {
     "data": {
      "text/plain": [
       "<Geographic 2D CRS: EPSG:4326>\n",
       "Name: WGS 84\n",
       "Axis Info [ellipsoidal]:\n",
       "- Lat[north]: Geodetic latitude (degree)\n",
       "- Lon[east]: Geodetic longitude (degree)\n",
       "Area of Use:\n",
       "- name: World.\n",
       "- bounds: (-180.0, -90.0, 180.0, 90.0)\n",
       "Datum: World Geodetic System 1984 ensemble\n",
       "- Ellipsoid: WGS 84\n",
       "- Prime Meridian: Greenwich"
      ]
     },
     "execution_count": 26,
     "metadata": {},
     "output_type": "execute_result"
    }
   ],
   "source": [
    "estaciones.crs"
   ]
  },
  {
   "cell_type": "code",
   "execution_count": 89,
   "id": "998c1e77-5402-4392-b631-d86b609b3a4a",
   "metadata": {},
   "outputs": [],
   "source": [
    "estaciones.to_csv('../data_s/estaciones.csv', index=False)"
   ]
  },
  {
   "cell_type": "markdown",
   "id": "1eabd542-aef3-40b3-80d3-fd656c7ef937",
   "metadata": {},
   "source": [
    "Solo nos vamos a quedar con las del valle de mexico y que no sean NaN"
   ]
  },
  {
   "cell_type": "code",
   "execution_count": 86,
   "id": "6349a53f-a18d-4d18-9b1d-e11d13eeb61d",
   "metadata": {},
   "outputs": [],
   "source": [
    "contaminantes = pd.read_csv('../../../Contaminantes/PM25/PM_25.csv')\n",
    "contaminantes = contaminantes[contaminantes.CVE_EST.apply(lambda l: 'ZMVM' in l) ] ### keep mexico central Valley \n",
    "contaminantes = contaminantes[contaminantes.VALOR.isna()== False] ### Drop Nan\n",
    "contaminantes.drop(['Unnamed: 0'], axis=1, inplace=True) ## remove column\n",
    "contaminantes.reset_index(drop=True,inplace =True) ## reset index"
   ]
  },
  {
   "cell_type": "code",
   "execution_count": 87,
   "id": "ec7b658a-6a9a-4a09-a17a-73d188c51ee4",
   "metadata": {},
   "outputs": [
    {
     "data": {
      "text/html": [
       "<div>\n",
       "<style scoped>\n",
       "    .dataframe tbody tr th:only-of-type {\n",
       "        vertical-align: middle;\n",
       "    }\n",
       "\n",
       "    .dataframe tbody tr th {\n",
       "        vertical-align: top;\n",
       "    }\n",
       "\n",
       "    .dataframe thead th {\n",
       "        text-align: right;\n",
       "    }\n",
       "</style>\n",
       "<table border=\"1\" class=\"dataframe\">\n",
       "  <thead>\n",
       "    <tr style=\"text-align: right;\">\n",
       "      <th></th>\n",
       "      <th>CVE_EST</th>\n",
       "      <th>FECHA</th>\n",
       "      <th>HORA</th>\n",
       "      <th>PARAMETRO</th>\n",
       "      <th>VALOR</th>\n",
       "      <th>UNIDAD</th>\n",
       "    </tr>\n",
       "  </thead>\n",
       "  <tbody>\n",
       "    <tr>\n",
       "      <th>0</th>\n",
       "      <td>ACO_ZMVM</td>\n",
       "      <td>2007-06-01</td>\n",
       "      <td>1</td>\n",
       "      <td>pm2.5</td>\n",
       "      <td>17.0</td>\n",
       "      <td>µg/m&lt;sup&gt;3&lt;/sup&gt;</td>\n",
       "    </tr>\n",
       "    <tr>\n",
       "      <th>1</th>\n",
       "      <td>ACO_ZMVM</td>\n",
       "      <td>2007-06-01</td>\n",
       "      <td>2</td>\n",
       "      <td>pm2.5</td>\n",
       "      <td>11.0</td>\n",
       "      <td>µg/m&lt;sup&gt;3&lt;/sup&gt;</td>\n",
       "    </tr>\n",
       "    <tr>\n",
       "      <th>2</th>\n",
       "      <td>ACO_ZMVM</td>\n",
       "      <td>2007-06-01</td>\n",
       "      <td>3</td>\n",
       "      <td>pm2.5</td>\n",
       "      <td>16.0</td>\n",
       "      <td>µg/m&lt;sup&gt;3&lt;/sup&gt;</td>\n",
       "    </tr>\n",
       "    <tr>\n",
       "      <th>3</th>\n",
       "      <td>ACO_ZMVM</td>\n",
       "      <td>2007-06-01</td>\n",
       "      <td>4</td>\n",
       "      <td>pm2.5</td>\n",
       "      <td>23.0</td>\n",
       "      <td>µg/m&lt;sup&gt;3&lt;/sup&gt;</td>\n",
       "    </tr>\n",
       "    <tr>\n",
       "      <th>4</th>\n",
       "      <td>ACO_ZMVM</td>\n",
       "      <td>2007-06-01</td>\n",
       "      <td>5</td>\n",
       "      <td>pm2.5</td>\n",
       "      <td>26.0</td>\n",
       "      <td>µg/m&lt;sup&gt;3&lt;/sup&gt;</td>\n",
       "    </tr>\n",
       "  </tbody>\n",
       "</table>\n",
       "</div>"
      ],
      "text/plain": [
       "    CVE_EST       FECHA  HORA PARAMETRO  VALOR            UNIDAD\n",
       "0  ACO_ZMVM  2007-06-01     1     pm2.5   17.0  µg/m<sup>3</sup>\n",
       "1  ACO_ZMVM  2007-06-01     2     pm2.5   11.0  µg/m<sup>3</sup>\n",
       "2  ACO_ZMVM  2007-06-01     3     pm2.5   16.0  µg/m<sup>3</sup>\n",
       "3  ACO_ZMVM  2007-06-01     4     pm2.5   23.0  µg/m<sup>3</sup>\n",
       "4  ACO_ZMVM  2007-06-01     5     pm2.5   26.0  µg/m<sup>3</sup>"
      ]
     },
     "execution_count": 87,
     "metadata": {},
     "output_type": "execute_result"
    }
   ],
   "source": [
    "contaminantes.head()"
   ]
  },
  {
   "cell_type": "code",
   "execution_count": null,
   "id": "7f609bb7-9f51-4e13-9e4f-f88bf7159989",
   "metadata": {},
   "outputs": [],
   "source": []
  },
  {
   "cell_type": "code",
   "execution_count": 84,
   "id": "3255e011-102f-4b95-966c-2fb499e13b30",
   "metadata": {},
   "outputs": [
    {
     "data": {
      "text/plain": [
       "Index(['Unnamed: 0', 'CVE_EST', 'FECHA', 'HORA', 'PARAMETRO', 'VALOR',\n",
       "       'UNIDAD'],\n",
       "      dtype='object')"
      ]
     },
     "execution_count": 84,
     "metadata": {},
     "output_type": "execute_result"
    }
   ],
   "source": []
  },
  {
   "cell_type": "code",
   "execution_count": null,
   "id": "05ec6b8c-cd6a-4d82-948a-3a972242446e",
   "metadata": {},
   "outputs": [],
   "source": []
  }
 ],
 "metadata": {
  "kernelspec": {
   "display_name": "Python 3 (ipykernel)",
   "language": "python",
   "name": "python3"
  },
  "language_info": {
   "codemirror_mode": {
    "name": "ipython",
    "version": 3
   },
   "file_extension": ".py",
   "mimetype": "text/x-python",
   "name": "python",
   "nbconvert_exporter": "python",
   "pygments_lexer": "ipython3",
   "version": "3.10.6"
  }
 },
 "nbformat": 4,
 "nbformat_minor": 5
}
